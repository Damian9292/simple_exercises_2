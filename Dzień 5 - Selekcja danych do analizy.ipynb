{
 "cells": [
  {
   "cell_type": "code",
   "execution_count": 39,
   "id": "b2ddafb9",
   "metadata": {},
   "outputs": [
    {
     "data": {
      "text/html": [
       "<div>\n",
       "<style scoped>\n",
       "    .dataframe tbody tr th:only-of-type {\n",
       "        vertical-align: middle;\n",
       "    }\n",
       "\n",
       "    .dataframe tbody tr th {\n",
       "        vertical-align: top;\n",
       "    }\n",
       "\n",
       "    .dataframe thead th {\n",
       "        text-align: right;\n",
       "    }\n",
       "</style>\n",
       "<table border=\"1\" class=\"dataframe\">\n",
       "  <thead>\n",
       "    <tr style=\"text-align: right;\">\n",
       "      <th></th>\n",
       "      <th>province</th>\n",
       "      <th>product_types</th>\n",
       "      <th>currency</th>\n",
       "      <th>product_group_id</th>\n",
       "      <th>product_line</th>\n",
       "      <th>value</th>\n",
       "      <th>date</th>\n",
       "    </tr>\n",
       "  </thead>\n",
       "  <tbody>\n",
       "    <tr>\n",
       "      <th>0</th>\n",
       "      <td>PODKARPACKIE</td>\n",
       "      <td>NaN</td>\n",
       "      <td>zł</td>\n",
       "      <td>2</td>\n",
       "      <td>szynka wieprzowa gotowana - za 1kg</td>\n",
       "      <td>21.37</td>\n",
       "      <td>2013-3</td>\n",
       "    </tr>\n",
       "    <tr>\n",
       "      <th>1</th>\n",
       "      <td>ŁÓDZKIE</td>\n",
       "      <td>NaN</td>\n",
       "      <td>zł</td>\n",
       "      <td>4</td>\n",
       "      <td>chleb - za 1kg</td>\n",
       "      <td>NaN</td>\n",
       "      <td>2018-2</td>\n",
       "    </tr>\n",
       "    <tr>\n",
       "      <th>2</th>\n",
       "      <td>KUJAWSKO-POMORSKIE</td>\n",
       "      <td>NaN</td>\n",
       "      <td>zł</td>\n",
       "      <td>2</td>\n",
       "      <td>kiszka kaszana jęczmienna - za 1kg</td>\n",
       "      <td>3.55</td>\n",
       "      <td>2019-12</td>\n",
       "    </tr>\n",
       "    <tr>\n",
       "      <th>3</th>\n",
       "      <td>DOLNOŚLĄSKIE</td>\n",
       "      <td>NaN</td>\n",
       "      <td>zł</td>\n",
       "      <td>2</td>\n",
       "      <td>kurczęta patroszone - za 1kg</td>\n",
       "      <td>6.14</td>\n",
       "      <td>2019-2</td>\n",
       "    </tr>\n",
       "    <tr>\n",
       "      <th>4</th>\n",
       "      <td>WARMIŃSKO-MAZURSKIE</td>\n",
       "      <td>NaN</td>\n",
       "      <td>zł</td>\n",
       "      <td>2</td>\n",
       "      <td>salceson Włoski - za 1kg</td>\n",
       "      <td>5.63</td>\n",
       "      <td>2002-3</td>\n",
       "    </tr>\n",
       "  </tbody>\n",
       "</table>\n",
       "</div>"
      ],
      "text/plain": [
       "              province product_types currency  product_group_id  \\\n",
       "0         PODKARPACKIE           NaN       zł                 2   \n",
       "1              ŁÓDZKIE           NaN       zł                 4   \n",
       "2   KUJAWSKO-POMORSKIE           NaN       zł                 2   \n",
       "3         DOLNOŚLĄSKIE           NaN       zł                 2   \n",
       "4  WARMIŃSKO-MAZURSKIE           NaN       zł                 2   \n",
       "\n",
       "                         product_line  value     date  \n",
       "0  szynka wieprzowa gotowana - za 1kg  21.37   2013-3  \n",
       "1                      chleb - za 1kg    NaN   2018-2  \n",
       "2  kiszka kaszana jęczmienna - za 1kg   3.55  2019-12  \n",
       "3        kurczęta patroszone - za 1kg   6.14   2019-2  \n",
       "4            salceson Włoski - za 1kg   5.63   2002-3  "
      ]
     },
     "execution_count": 39,
     "metadata": {},
     "output_type": "execute_result"
    }
   ],
   "source": [
    "# Dzień 5 - Pandas - Filtrowanie - Selekcja danych do analizy\n",
    "\n",
    "import pandas as pd\n",
    "df = pd.read_csv(\n",
    "  r'C:\\Users\\damia\\Desktop\\coderslab - Data scientist\\3. Pandas\\Zjazd_3_-_pliki_do_zadań\\Zjazd 3 - pliki do zadań\\01_Dane\\ceny_produktow_renamed.csv',\n",
    "  sep=';',\n",
    "  encoding='UTF-8',\n",
    "  decimal='.'\n",
    ")\n",
    "df.head()"
   ]
  },
  {
   "cell_type": "code",
   "execution_count": 29,
   "id": "cd128f5f",
   "metadata": {},
   "outputs": [
    {
     "data": {
      "text/html": [
       "<div>\n",
       "<style scoped>\n",
       "    .dataframe tbody tr th:only-of-type {\n",
       "        vertical-align: middle;\n",
       "    }\n",
       "\n",
       "    .dataframe tbody tr th {\n",
       "        vertical-align: top;\n",
       "    }\n",
       "\n",
       "    .dataframe thead th {\n",
       "        text-align: right;\n",
       "    }\n",
       "</style>\n",
       "<table border=\"1\" class=\"dataframe\">\n",
       "  <thead>\n",
       "    <tr style=\"text-align: right;\">\n",
       "      <th></th>\n",
       "      <th>product_group_id</th>\n",
       "      <th>value</th>\n",
       "    </tr>\n",
       "  </thead>\n",
       "  <tbody>\n",
       "    <tr>\n",
       "      <th>count</th>\n",
       "      <td>4284.0</td>\n",
       "      <td>4284.000000</td>\n",
       "    </tr>\n",
       "    <tr>\n",
       "      <th>mean</th>\n",
       "      <td>1.0</td>\n",
       "      <td>0.523353</td>\n",
       "    </tr>\n",
       "    <tr>\n",
       "      <th>std</th>\n",
       "      <td>0.0</td>\n",
       "      <td>0.348874</td>\n",
       "    </tr>\n",
       "    <tr>\n",
       "      <th>min</th>\n",
       "      <td>1.0</td>\n",
       "      <td>0.000000</td>\n",
       "    </tr>\n",
       "    <tr>\n",
       "      <th>25%</th>\n",
       "      <td>1.0</td>\n",
       "      <td>0.000000</td>\n",
       "    </tr>\n",
       "    <tr>\n",
       "      <th>50%</th>\n",
       "      <td>1.0</td>\n",
       "      <td>0.645783</td>\n",
       "    </tr>\n",
       "    <tr>\n",
       "      <th>75%</th>\n",
       "      <td>1.0</td>\n",
       "      <td>0.787952</td>\n",
       "    </tr>\n",
       "    <tr>\n",
       "      <th>max</th>\n",
       "      <td>1.0</td>\n",
       "      <td>1.221687</td>\n",
       "    </tr>\n",
       "  </tbody>\n",
       "</table>\n",
       "</div>"
      ],
      "text/plain": [
       "       product_group_id        value\n",
       "count            4284.0  4284.000000\n",
       "mean                1.0     0.523353\n",
       "std                 0.0     0.348874\n",
       "min                 1.0     0.000000\n",
       "25%                 1.0     0.000000\n",
       "50%                 1.0     0.645783\n",
       "75%                 1.0     0.787952\n",
       "max                 1.0     1.221687"
      ]
     },
     "execution_count": 29,
     "metadata": {},
     "output_type": "execute_result"
    }
   ],
   "source": [
    "# 1. Jaka była średnia cena mieszanki marchwi i groszku za 1 kg w Polsce w 2015 roku?\n",
    "\n",
    "df = df.query(\"product_types == 'mieszanka mrożona marchew i groszek - za 1kg' \")\n",
    "df.describe()"
   ]
  },
  {
   "cell_type": "code",
   "execution_count": 45,
   "id": "bc008227",
   "metadata": {
    "scrolled": false
   },
   "outputs": [
    {
     "data": {
      "text/plain": [
       "0.47"
      ]
     },
     "execution_count": 45,
     "metadata": {},
     "output_type": "execute_result"
    }
   ],
   "source": [
    "round(df.loc[(df[\"product_types\"] == 'mieszanka mrożona marchew i groszek - za 1kg') & (df['date'] >= '2015-0') & \n",
    "       (df['date'] <= '2016-0'), 'value'].mean(), 2)"
   ]
  },
  {
   "cell_type": "code",
   "execution_count": 46,
   "id": "1c13b56e",
   "metadata": {},
   "outputs": [
    {
     "data": {
      "text/plain": [
       "nan"
      ]
     },
     "execution_count": 46,
     "metadata": {},
     "output_type": "execute_result"
    }
   ],
   "source": [
    "# 2. Jaka była średnia cena soku jabłkowego w latach 2016-2018 w województwie mazowieckim?\n",
    "\n",
    "round(df.loc[(df[\"product_types\"] == 'sok jabłkowy w opakowaniu kartonowym - za 1l') & \n",
    "       (df['province'] == 'MAZOWIECKIE') & (df['date'] >= '2016-0') & (df['date'] <= '2018-0'), 'value'].mean(), 2)"
   ]
  },
  {
   "cell_type": "code",
   "execution_count": 37,
   "id": "8cd3eb59",
   "metadata": {},
   "outputs": [
    {
     "data": {
      "text/plain": [
       "20.49"
      ]
     },
     "execution_count": 37,
     "metadata": {},
     "output_type": "execute_result"
    }
   ],
   "source": [
    "# 3. Ile wynosiła średnia cena koncentratu pomidorowego w województwie dolnośląskim w latach 2003-2015? \n",
    "# Czy wydaje Ci się ona racjonalna?\n",
    "\n",
    "round(df.loc[(df[\"product_types\"] == 'koncentrat pomidorowy 30% - za 1kg') & (df['province'] == 'DOLNOŚLĄSKIE') & (df['date'] >= '2003-01-01') & \n",
    "       (df['date'] <= '2015-12-31'), 'value'].mean(), 2)"
   ]
  },
  {
   "cell_type": "code",
   "execution_count": 47,
   "id": "9fda3ec9",
   "metadata": {},
   "outputs": [
    {
     "data": {
      "text/plain": [
       "count    12.000000\n",
       "mean      0.829116\n",
       "std       0.035257\n",
       "min       0.766265\n",
       "25%       0.803012\n",
       "50%       0.832530\n",
       "75%       0.847590\n",
       "max       0.884337\n",
       "Name: value, dtype: float64"
      ]
     },
     "execution_count": 47,
     "metadata": {},
     "output_type": "execute_result"
    }
   ],
   "source": [
    "#Na zajęciach\n",
    "# 1. Jaka była średnia cena mieszanki marchwi i groszku za 1 kg w Polsce w 2015 roku?\n",
    "\n",
    "w0 = df['product_types'] == 'mieszanka mrożona marchew i groszek - za 1kg'\n",
    "w4 = df['province'] == 'POLSKA'\n",
    "w1 = df['date'] > '2015-0'\n",
    "w2 = df['date'] < '2016-0'\n",
    "\n",
    "df_marchew_2015 = df.loc[w0 & w4 & w1 & w2]\n",
    "df_marchew_2015['date'].unique()\n",
    "df_marchew_2015['product_types'].unique()\n",
    "df_marchew_2015['province'].unique()\n",
    "\n",
    "df_marchew_2015['value'].describe()"
   ]
  },
  {
   "cell_type": "code",
   "execution_count": 48,
   "id": "87729066",
   "metadata": {},
   "outputs": [
    {
     "data": {
      "text/plain": [
       "2.92"
      ]
     },
     "execution_count": 48,
     "metadata": {},
     "output_type": "execute_result"
    }
   ],
   "source": [
    "# 2. Jaka była średnia cena soku jabłkowego w latach 2016-2018 w województwie mazowieckim?\n",
    "\n",
    "w0 = df['product_types'] == 'sok jabłkowy, w opakowaniu kartonowym - za 1l'\n",
    "w1 = df['date'] > '2016-0'\n",
    "w2 = df['date'] < '2019'\n",
    "w3 = df['province'].str.lower() == 'mazowieckie'\n",
    "df_sok = df.loc[w0]\n",
    "df_sok = df_sok.loc[w1 & w2 & w3]\n",
    "round(df_sok['value'].describe()['mean'], 2)"
   ]
  },
  {
   "cell_type": "code",
   "execution_count": 49,
   "id": "5a787ff1",
   "metadata": {},
   "outputs": [
    {
     "data": {
      "text/plain": [
       "19.44"
      ]
     },
     "execution_count": 49,
     "metadata": {},
     "output_type": "execute_result"
    }
   ],
   "source": [
    "# 3. Ile wynosiła średnia cena koncentratu pomidorowego w województwie dolnośląskim w latach 2003-2015? \n",
    "# Czy wydaje Ci się ona racjonalna?\n",
    "\n",
    "w0 = df['product_types'] == 'koncentrat pomidorowy 30% - za 1kg'\n",
    "w1 = df['date'] > '2003-0'\n",
    "w2 = df['date'] < '2016'\n",
    "w3 = df['province'].str.lower() == 'dolnośląskie'\n",
    "df_pomidor = df.loc[w0]\n",
    "df_pomidor = df_pomidor.loc[w1 & w2 & w3]\n",
    "round(df_pomidor['value'].describe()['mean'], 2)"
   ]
  },
  {
   "cell_type": "code",
   "execution_count": null,
   "id": "3dd83a45",
   "metadata": {},
   "outputs": [],
   "source": []
  }
 ],
 "metadata": {
  "kernelspec": {
   "display_name": "Python 3 (ipykernel)",
   "language": "python",
   "name": "python3"
  },
  "language_info": {
   "codemirror_mode": {
    "name": "ipython",
    "version": 3
   },
   "file_extension": ".py",
   "mimetype": "text/x-python",
   "name": "python",
   "nbconvert_exporter": "python",
   "pygments_lexer": "ipython3",
   "version": "3.11.4"
  }
 },
 "nbformat": 4,
 "nbformat_minor": 5
}
