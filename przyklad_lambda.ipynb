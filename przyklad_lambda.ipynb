{
 "cells": [
  {
   "cell_type": "code",
   "execution_count": 3,
   "id": "45dc21c8-abbe-4577-9b8d-c483dc37828b",
   "metadata": {},
   "outputs": [],
   "source": [
    "def przywitaj_sie(imie: str=None):\n",
    "    return(f\"Cześć, jestem {imie}!\")"
   ]
  },
  {
   "cell_type": "code",
   "execution_count": 4,
   "id": "93aef6a3-7eb3-4cdc-9837-ecf27fe28468",
   "metadata": {},
   "outputs": [
    {
     "name": "stdout",
     "output_type": "stream",
     "text": [
      "Cześć, jestem Marcin!\n"
     ]
    }
   ],
   "source": [
    "print(przywitaj_sie(\"Marcin\"))"
   ]
  },
  {
   "cell_type": "code",
   "execution_count": 12,
   "id": "95b9fee5-8e12-4137-8093-fde35be0cec5",
   "metadata": {},
   "outputs": [
    {
     "data": {
      "text/plain": [
       "<function __main__.przywitaj_sie(imie: str = None)>"
      ]
     },
     "execution_count": 12,
     "metadata": {},
     "output_type": "execute_result"
    }
   ],
   "source": [
    "przywitaj_sie"
   ]
  },
  {
   "cell_type": "code",
   "execution_count": 10,
   "id": "29dc2402-c13e-4e52-9613-0ff2777e9651",
   "metadata": {},
   "outputs": [],
   "source": [
    "przywitaj_sie_2 = lambda x,y,z,k: f\"Cześć, jestem {x}, ale z lambdy\""
   ]
  },
  {
   "cell_type": "code",
   "execution_count": 11,
   "id": "6f073f21-3be6-4fd6-8ce9-a60ba7559007",
   "metadata": {},
   "outputs": [
    {
     "ename": "TypeError",
     "evalue": "<lambda>() missing 3 required positional arguments: 'y', 'z', and 'k'",
     "output_type": "error",
     "traceback": [
      "\u001b[1;31m---------------------------------------------------------------------------\u001b[0m",
      "\u001b[1;31mTypeError\u001b[0m                                 Traceback (most recent call last)",
      "Cell \u001b[1;32mIn[11], line 1\u001b[0m\n\u001b[1;32m----> 1\u001b[0m \u001b[43mprzywitaj_sie_2\u001b[49m\u001b[43m(\u001b[49m\u001b[38;5;124;43m\"\u001b[39;49m\u001b[38;5;124;43mMarcin\u001b[39;49m\u001b[38;5;124;43m\"\u001b[39;49m\u001b[43m)\u001b[49m\n",
      "\u001b[1;31mTypeError\u001b[0m: <lambda>() missing 3 required positional arguments: 'y', 'z', and 'k'"
     ]
    }
   ],
   "source": [
    "przywitaj_sie_2(\"Marcin\")"
   ]
  },
  {
   "cell_type": "code",
   "execution_count": null,
   "id": "43ebccce-d2d5-4559-a6b0-702a897c6ba8",
   "metadata": {},
   "outputs": [],
   "source": []
  }
 ],
 "metadata": {
  "kernelspec": {
   "display_name": "coderslab_dtl",
   "language": "python",
   "name": "coderslab_dtl"
  },
  "language_info": {
   "codemirror_mode": {
    "name": "ipython",
    "version": 3
   },
   "file_extension": ".py",
   "mimetype": "text/x-python",
   "name": "python",
   "nbconvert_exporter": "python",
   "pygments_lexer": "ipython3",
   "version": "3.10.9"
  }
 },
 "nbformat": 4,
 "nbformat_minor": 5
}
