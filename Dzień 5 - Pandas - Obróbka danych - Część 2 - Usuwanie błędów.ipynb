{
 "cells": [
  {
   "cell_type": "markdown",
   "id": "younger-religion",
   "metadata": {},
   "source": [
    "# Usuwanie błędów \n",
    "Korzystając z rozwiązań z poprzedniego wykładu oraz pliku **ceny_produktow_renamed.csv**, zmodyfikuj `loc`, tak aby poprawił istniejące błędy w zbiorze danych:\n",
    "\n",
    "1. W kolumnie **date** pojawiły się dane z roku 1888 - '1888-0', zmień tę wartość na 1999-1,\n",
    "1. W kolumnie **date** pojawił się dane z roku 2099 - '2099-13', zmień tę wartość na 2019-1,\n",
    "1. W kolumnie **product_types** pojawił się błąd ortograficzny - popraw go. Liczba sztuk powinna wynosić '10szt.`. Sprawdź poprawność wykonania zadania.\n",
    "1. Przekonwertuj wartości podane w `EUR` na `zł` używając kursu 4.15 używając `loc`.\n",
    "1. Odfiltuj ze zbioru te wiersze, gdzie cena za produkt wynosi 3000.\n",
    "Wskazówka: Zamiast pisać `loc` dwa razy, zrób go najpierw, odpytując najpierw dane o wiersze, gdzie **currency** = `EUR` i zapisz do zmiennej.\n",
    "\n",
    ">Pamiętaj, że `loc` modyfikuje bezpowrotnie dane."
   ]
  },
  {
   "cell_type": "code",
   "execution_count": 18,
   "id": "conventional-destiny",
   "metadata": {},
   "outputs": [],
   "source": [
    "import pandas as pd\n",
    "df = pd.read_csv(\n",
    "  r'C:\\Users\\damia\\Desktop\\coderslab - Data scientist\\3. Pandas\\Zjazd_3_-_pliki_do_zadań\\Zjazd 3 - pliki do zadań\\01_Dane\\ceny_produktow_renamed.csv',\n",
    "  sep=';',\n",
    "  encoding='UTF-8',\n",
    "  decimal='.'\n",
    ")\n",
    "df_clean = df.copy()"
   ]
  },
  {
   "cell_type": "code",
   "execution_count": 19,
   "id": "e0d5961e-e137-46f3-82d8-f4aadabd1afe",
   "metadata": {},
   "outputs": [],
   "source": [
    "def overwrite_df_values(df, col, old_val, new_val):\n",
    "    df.loc[(df[col] == old_val), col] = new_val\n",
    "    if df.loc[df[col] == old_val].shape[0] > 0:\n",
    "        raise Exception(\"Couldn't replace all the values\")"
   ]
  },
  {
   "cell_type": "code",
   "execution_count": 20,
   "id": "23ae1861-b218-4ae3-ba80-7a13fbc1b6af",
   "metadata": {},
   "outputs": [
    {
     "data": {
      "text/plain": [
       "array([nan, 'ogórki konserwowe całe 0,9l - za 1szt.',\n",
       "       'jaja kóże śfierze - za 666szt.',\n",
       "       'koncentrat pomidorowy 30% - za 1kg',\n",
       "       'mieszanka mrożona marchew i groszek - za 1kg',\n",
       "       'cukier biały z buraków cukrowych, workowany - za 1kg',\n",
       "       'sok jabłkowy, w opakowaniu kartonowym - za 1l',\n",
       "       'sól warzona biała workowana - za 1kg',\n",
       "       'czekolada naturalna pełna bez dodatków - za 1kg'], dtype=object)"
      ]
     },
     "execution_count": 20,
     "metadata": {},
     "output_type": "execute_result"
    }
   ],
   "source": [
    "df_clean['product_types'].unique()"
   ]
  },
  {
   "cell_type": "code",
   "execution_count": 21,
   "id": "ab52cb4d-d9e3-44cd-8dfd-10e84047cdd5",
   "metadata": {},
   "outputs": [
    {
     "name": "stdout",
     "output_type": "stream",
     "text": [
      "Liczba wpisów z datą 1888-0: 0\n",
      "Liczba wpisów z datą 2099-13: 0\n"
     ]
    }
   ],
   "source": [
    "# 1 1888-0 -> 1999-1 (date)\n",
    "df_clean.loc[(df_clean['date'] == '1888-0'), 'date'] = '1999-1'\n",
    "print(f\"Liczba wpisów z datą 1888-0: {df_clean.loc[(df_clean['date'] == '1888-0')].shape[0]}\")\n",
    "\n",
    "# 2 2099-13 -> 2019-1 (date)\n",
    "overwrite_df_values(df_clean, 'date', '2099-13', '2019-1')\n",
    "print(f\"Liczba wpisów z datą 2099-13: {df_clean.loc[(df_clean['date'] == '2099-13')].shape[0]}\")\n",
    "\n",
    "# 3 'jaja kóże śfierze - za 666szt.' -> 'jaja kurze świeże - za 10szt.' (product_types)\n",
    "df_clean.loc[(df_clean['product_types'] == 'jaja kóże śfierze - za 666szt.'), 'product_types'] = 'jaja kurze świeże - za 10szt.'\n",
    "\n",
    "# overwrite_df_values(\n",
    "#     df_clean, \n",
    "#     'product_types', \n",
    "#     'jaja kóże śfierze - za 666szt.',\n",
    "#     'jaja kurze świeże - za 10szt.',\n",
    "# )"
   ]
  },
  {
   "cell_type": "code",
   "execution_count": 22,
   "id": "e4e95673-ec68-4ecf-b4ae-82f5ce4d87d3",
   "metadata": {},
   "outputs": [],
   "source": [
    "df_clean.loc[(df_clean['product_types'] == 'jaja kóże śfierze - za 666szt.'), 'product_types'] = 'jaja kurze świeże - za 10szt.'"
   ]
  },
  {
   "cell_type": "code",
   "execution_count": 23,
   "id": "bb39351d-3175-48aa-b4db-d71aa06c4444",
   "metadata": {},
   "outputs": [
    {
     "data": {
      "text/html": [
       "<div>\n",
       "<style scoped>\n",
       "    .dataframe tbody tr th:only-of-type {\n",
       "        vertical-align: middle;\n",
       "    }\n",
       "\n",
       "    .dataframe tbody tr th {\n",
       "        vertical-align: top;\n",
       "    }\n",
       "\n",
       "    .dataframe thead th {\n",
       "        text-align: right;\n",
       "    }\n",
       "</style>\n",
       "<table border=\"1\" class=\"dataframe\">\n",
       "  <thead>\n",
       "    <tr style=\"text-align: right;\">\n",
       "      <th></th>\n",
       "      <th>province</th>\n",
       "      <th>product_types</th>\n",
       "      <th>currency</th>\n",
       "      <th>product_group_id</th>\n",
       "      <th>product_line</th>\n",
       "      <th>value</th>\n",
       "      <th>date</th>\n",
       "    </tr>\n",
       "  </thead>\n",
       "  <tbody>\n",
       "  </tbody>\n",
       "</table>\n",
       "</div>"
      ],
      "text/plain": [
       "Empty DataFrame\n",
       "Columns: [province, product_types, currency, product_group_id, product_line, value, date]\n",
       "Index: []"
      ]
     },
     "execution_count": 23,
     "metadata": {},
     "output_type": "execute_result"
    }
   ],
   "source": [
    "df_clean.loc[(df_clean['product_types'] == 'jaja kóże śfierze - za 666szt.')]"
   ]
  },
  {
   "cell_type": "code",
   "execution_count": 24,
   "id": "88a65e42-0c00-43cc-b880-5e88dab0b5a0",
   "metadata": {},
   "outputs": [
    {
     "data": {
      "text/html": [
       "<div>\n",
       "<style scoped>\n",
       "    .dataframe tbody tr th:only-of-type {\n",
       "        vertical-align: middle;\n",
       "    }\n",
       "\n",
       "    .dataframe tbody tr th {\n",
       "        vertical-align: top;\n",
       "    }\n",
       "\n",
       "    .dataframe thead th {\n",
       "        text-align: right;\n",
       "    }\n",
       "</style>\n",
       "<table border=\"1\" class=\"dataframe\">\n",
       "  <thead>\n",
       "    <tr style=\"text-align: right;\">\n",
       "      <th></th>\n",
       "      <th>province</th>\n",
       "      <th>product_types</th>\n",
       "      <th>currency</th>\n",
       "      <th>product_group_id</th>\n",
       "      <th>product_line</th>\n",
       "      <th>value</th>\n",
       "      <th>date</th>\n",
       "    </tr>\n",
       "  </thead>\n",
       "  <tbody>\n",
       "  </tbody>\n",
       "</table>\n",
       "</div>"
      ],
      "text/plain": [
       "Empty DataFrame\n",
       "Columns: [province, product_types, currency, product_group_id, product_line, value, date]\n",
       "Index: []"
      ]
     },
     "execution_count": 24,
     "metadata": {},
     "output_type": "execute_result"
    }
   ],
   "source": [
    "df_clean.loc[df_clean['date'] == '2099-13']"
   ]
  },
  {
   "cell_type": "code",
   "execution_count": 25,
   "id": "96505763-d9a1-410c-b21b-9f314e4a3920",
   "metadata": {},
   "outputs": [],
   "source": [
    "# 4 EUR -> zł (currency, x4.15)\n",
    "eur_index = df_clean['currency'] == 'EUR'"
   ]
  },
  {
   "cell_type": "code",
   "execution_count": 26,
   "id": "ee6086aa-bb13-4ec5-91fc-ce4c5ac3de82",
   "metadata": {},
   "outputs": [
    {
     "data": {
      "text/plain": [
       "province                                            DOLNOŚLĄSKIE\n",
       "product_types       mieszanka mrożona marchew i groszek - za 1kg\n",
       "currency                                                     EUR\n",
       "product_group_id                                               1\n",
       "product_line                                                 NaN\n",
       "value                                                    0.66988\n",
       "date                                                      2005-7\n",
       "Name: 26, dtype: object"
      ]
     },
     "execution_count": 26,
     "metadata": {},
     "output_type": "execute_result"
    }
   ],
   "source": [
    "df_clean.loc[26]"
   ]
  },
  {
   "cell_type": "code",
   "execution_count": 27,
   "id": "3671474f-ba54-4fa0-a556-815a83815c37",
   "metadata": {},
   "outputs": [
    {
     "data": {
      "text/html": [
       "<div>\n",
       "<style scoped>\n",
       "    .dataframe tbody tr th:only-of-type {\n",
       "        vertical-align: middle;\n",
       "    }\n",
       "\n",
       "    .dataframe tbody tr th {\n",
       "        vertical-align: top;\n",
       "    }\n",
       "\n",
       "    .dataframe thead th {\n",
       "        text-align: right;\n",
       "    }\n",
       "</style>\n",
       "<table border=\"1\" class=\"dataframe\">\n",
       "  <thead>\n",
       "    <tr style=\"text-align: right;\">\n",
       "      <th></th>\n",
       "      <th>province</th>\n",
       "      <th>product_types</th>\n",
       "      <th>currency</th>\n",
       "      <th>product_group_id</th>\n",
       "      <th>product_line</th>\n",
       "      <th>value</th>\n",
       "      <th>date</th>\n",
       "    </tr>\n",
       "  </thead>\n",
       "  <tbody>\n",
       "    <tr>\n",
       "      <th>26</th>\n",
       "      <td>DOLNOŚLĄSKIE</td>\n",
       "      <td>mieszanka mrożona marchew i groszek - za 1kg</td>\n",
       "      <td>EUR</td>\n",
       "      <td>1</td>\n",
       "      <td>NaN</td>\n",
       "      <td>0.66988</td>\n",
       "      <td>2005-7</td>\n",
       "    </tr>\n",
       "  </tbody>\n",
       "</table>\n",
       "</div>"
      ],
      "text/plain": [
       "        province                                 product_types currency  \\\n",
       "26  DOLNOŚLĄSKIE  mieszanka mrożona marchew i groszek - za 1kg      EUR   \n",
       "\n",
       "    product_group_id product_line    value    date  \n",
       "26                 1          NaN  0.66988  2005-7  "
      ]
     },
     "execution_count": 27,
     "metadata": {},
     "output_type": "execute_result"
    }
   ],
   "source": [
    "df_clean.loc[eur_index].head(1)"
   ]
  },
  {
   "cell_type": "code",
   "execution_count": 28,
   "id": "d702a6ab-6b22-42c8-94d4-561b80f67a6f",
   "metadata": {},
   "outputs": [
    {
     "data": {
      "text/html": [
       "<div>\n",
       "<style scoped>\n",
       "    .dataframe tbody tr th:only-of-type {\n",
       "        vertical-align: middle;\n",
       "    }\n",
       "\n",
       "    .dataframe tbody tr th {\n",
       "        vertical-align: top;\n",
       "    }\n",
       "\n",
       "    .dataframe thead th {\n",
       "        text-align: right;\n",
       "    }\n",
       "</style>\n",
       "<table border=\"1\" class=\"dataframe\">\n",
       "  <thead>\n",
       "    <tr style=\"text-align: right;\">\n",
       "      <th></th>\n",
       "      <th>province</th>\n",
       "      <th>product_types</th>\n",
       "      <th>currency</th>\n",
       "      <th>product_group_id</th>\n",
       "      <th>product_line</th>\n",
       "      <th>value</th>\n",
       "      <th>date</th>\n",
       "    </tr>\n",
       "  </thead>\n",
       "  <tbody>\n",
       "    <tr>\n",
       "      <th>26</th>\n",
       "      <td>DOLNOŚLĄSKIE</td>\n",
       "      <td>mieszanka mrożona marchew i groszek - za 1kg</td>\n",
       "      <td>zł</td>\n",
       "      <td>1</td>\n",
       "      <td>NaN</td>\n",
       "      <td>2.78</td>\n",
       "      <td>2005-7</td>\n",
       "    </tr>\n",
       "  </tbody>\n",
       "</table>\n",
       "</div>"
      ],
      "text/plain": [
       "        province                                 product_types currency  \\\n",
       "26  DOLNOŚLĄSKIE  mieszanka mrożona marchew i groszek - za 1kg       zł   \n",
       "\n",
       "    product_group_id product_line  value    date  \n",
       "26                 1          NaN   2.78  2005-7  "
      ]
     },
     "execution_count": 28,
     "metadata": {},
     "output_type": "execute_result"
    }
   ],
   "source": [
    "# uwaga, jesli nie skorzystamy ze zmiennej eur_index\n",
    "# to musimy koniecznie najpiewr przemnozyc przez 4.15, a dopiero pozniej zamienic EUR -> zł\n",
    "df_clean.loc[eur_index, 'value'] = df_clean['value']*4.15\n",
    "df_clean.loc[eur_index, 'currency'] = 'zł'\n",
    "# -> wyskakuje warning poniżej\n",
    "# df_clean.loc[eur_index, ['currency', 'value']] = 'zł', df_clean['value']*4.15\n",
    "df_clean.loc[eur_index].head(1)"
   ]
  },
  {
   "cell_type": "code",
   "execution_count": 17,
   "id": "048df216-80fd-4a4e-bb57-d31c5fdb5996",
   "metadata": {},
   "outputs": [],
   "source": [
    "# 5 value==3000 -> gone\n",
    "df_clean = df_clean.loc[(df_clean['value'] != 3000) & (df_clean['value'] != 0)]\n",
    "\n",
    "df_clean.to_csv('produkty_cleaned.csv', sep=';', decimal='.', encoding='utf-8', index=False)"
   ]
  },
  {
   "cell_type": "code",
   "execution_count": null,
   "id": "f684a339-567a-488b-9c85-575b52883fce",
   "metadata": {},
   "outputs": [],
   "source": []
  }
 ],
 "metadata": {
  "kernelspec": {
   "display_name": "Python 3 (ipykernel)",
   "language": "python",
   "name": "python3"
  },
  "language_info": {
   "codemirror_mode": {
    "name": "ipython",
    "version": 3
   },
   "file_extension": ".py",
   "mimetype": "text/x-python",
   "name": "python",
   "nbconvert_exporter": "python",
   "pygments_lexer": "ipython3",
   "version": "3.11.4"
  }
 },
 "nbformat": 4,
 "nbformat_minor": 5
}
