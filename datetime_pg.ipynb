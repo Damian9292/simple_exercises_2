{
 "cells": [
  {
   "cell_type": "code",
   "execution_count": 1,
   "id": "d1d0dc80-e19a-4412-a416-82e4ba55fd9a",
   "metadata": {},
   "outputs": [],
   "source": [
    "# datetime playground\n"
   ]
  },
  {
   "cell_type": "code",
   "execution_count": 4,
   "id": "429792ed-6d7b-4525-8cf9-b365ffcf304a",
   "metadata": {},
   "outputs": [],
   "source": [
    "import pandas as pd\n",
    "df = pd.read_csv(\n",
    "    r'.\\01_Dane\\ceny_produktow_cleaned.csv',  # sciezka do pliku z danymi\n",
    "    sep=';',  # separator uzywany do wydzielenia kolumn\n",
    ")\n"
   ]
  },
  {
   "cell_type": "code",
   "execution_count": 6,
   "id": "9adef569-61d5-422d-803d-f1b77632592b",
   "metadata": {},
   "outputs": [],
   "source": [
    "df['date_dt'] = pd.to_datetime(df['date'])"
   ]
  },
  {
   "cell_type": "code",
   "execution_count": 7,
   "id": "7c6eb611-6abe-4f39-9bf4-7c8811610ecf",
   "metadata": {},
   "outputs": [
    {
     "data": {
      "text/plain": [
       "0       2013-03-01\n",
       "1       2018-02-01\n",
       "2       2019-12-01\n",
       "3       2019-02-01\n",
       "4       2002-03-01\n",
       "           ...    \n",
       "95825   1999-10-01\n",
       "95826   2015-09-01\n",
       "95827   2004-08-01\n",
       "95828   2016-11-01\n",
       "95829   2000-11-01\n",
       "Name: date_dt, Length: 95830, dtype: datetime64[ns]"
      ]
     },
     "execution_count": 7,
     "metadata": {},
     "output_type": "execute_result"
    }
   ],
   "source": [
    "df['date_dt']"
   ]
  },
  {
   "cell_type": "code",
   "execution_count": 56,
   "id": "f142b1a8-2edb-433e-bb51-3937e2a70515",
   "metadata": {},
   "outputs": [
    {
     "data": {
      "text/plain": [
       "Timedelta('-4900 days +00:00:00')"
      ]
     },
     "execution_count": 56,
     "metadata": {},
     "output_type": "execute_result"
    }
   ],
   "source": [
    "minus_7_days = pd.Timedelta(weeks=-700)\n",
    "minus_7_days"
   ]
  },
  {
   "cell_type": "code",
   "execution_count": 10,
   "id": "45ee9777-a9ea-48a9-8f55-06d4d5352cfe",
   "metadata": {},
   "outputs": [
    {
     "data": {
      "text/plain": [
       "0       2013-02-22\n",
       "1       2018-01-25\n",
       "2       2019-11-24\n",
       "3       2019-01-25\n",
       "4       2002-02-22\n",
       "           ...    \n",
       "95825   1999-09-24\n",
       "95826   2015-08-25\n",
       "95827   2004-07-25\n",
       "95828   2016-10-25\n",
       "95829   2000-10-25\n",
       "Name: date_dt, Length: 95830, dtype: datetime64[ns]"
      ]
     },
     "execution_count": 10,
     "metadata": {},
     "output_type": "execute_result"
    }
   ],
   "source": [
    "df['date_dt'] + minus_7_days"
   ]
  },
  {
   "cell_type": "code",
   "execution_count": 17,
   "id": "158b4bc4-067b-42c4-863d-ab9913b2de25",
   "metadata": {},
   "outputs": [],
   "source": [
    "# pd.to_datetime('2023.25.10') # uwaga blad"
   ]
  },
  {
   "cell_type": "code",
   "execution_count": 20,
   "id": "0c222185-f2b2-4d14-a008-c1a860d21ab9",
   "metadata": {},
   "outputs": [
    {
     "data": {
      "text/plain": [
       "Timestamp('2023-10-25 00:00:00')"
      ]
     },
     "execution_count": 20,
     "metadata": {},
     "output_type": "execute_result"
    }
   ],
   "source": [
    "pd.to_datetime('2023.25.10', format='%Y.%d.%m') "
   ]
  },
  {
   "cell_type": "code",
   "execution_count": 21,
   "id": "5c9324ce-99dd-403d-b390-caae3f4f1e88",
   "metadata": {},
   "outputs": [
    {
     "data": {
      "text/plain": [
       "'2023.25.10'"
      ]
     },
     "execution_count": 21,
     "metadata": {},
     "output_type": "execute_result"
    }
   ],
   "source": [
    "pd.to_datetime('2023.25.10', errors='ignore') # uwaga blad (zwraca to co dostal)"
   ]
  },
  {
   "cell_type": "code",
   "execution_count": 22,
   "id": "54facfe2-abf0-4553-8420-02d3f25fdab9",
   "metadata": {},
   "outputs": [
    {
     "data": {
      "text/plain": [
       "NaT"
      ]
     },
     "execution_count": 22,
     "metadata": {},
     "output_type": "execute_result"
    }
   ],
   "source": [
    "pd.to_datetime('2023.25.10', errors='coerce') # uwaga blad -> zamieniony na Not a Time (NULL w sQL)"
   ]
  },
  {
   "cell_type": "code",
   "execution_count": 34,
   "id": "a7ddd1c5-7ffd-400d-9db2-eedc21bd7bbb",
   "metadata": {},
   "outputs": [],
   "source": [
    "moja_data = pd.to_datetime('2023.01.10', format='%Y.%d.%m')"
   ]
  },
  {
   "cell_type": "code",
   "execution_count": 35,
   "id": "383e993f-8fb2-4c49-9e3e-8bf1d7bf01b6",
   "metadata": {},
   "outputs": [
    {
     "data": {
      "text/plain": [
       "1"
      ]
     },
     "execution_count": 35,
     "metadata": {},
     "output_type": "execute_result"
    }
   ],
   "source": [
    "moja_data.year\n",
    "moja_data.quarter\n",
    "moja_data.second\n",
    "moja_data.hour\n",
    "moja_data.minute\n",
    "moja_data.month\n",
    "moja_data.day"
   ]
  },
  {
   "cell_type": "code",
   "execution_count": 36,
   "id": "3e8240df-45cd-4e57-83b2-54ca786a4619",
   "metadata": {},
   "outputs": [
    {
     "data": {
      "text/plain": [
       "True"
      ]
     },
     "execution_count": 36,
     "metadata": {},
     "output_type": "execute_result"
    }
   ],
   "source": [
    "moja_data.is_quarter_start"
   ]
  },
  {
   "cell_type": "code",
   "execution_count": 38,
   "id": "1dbd0859-a8f7-4f2f-b9c9-d1b40edc1e75",
   "metadata": {},
   "outputs": [
    {
     "data": {
      "text/plain": [
       "0         2013-3\n",
       "1         2018-2\n",
       "2        2019-12\n",
       "3         2019-2\n",
       "4         2002-3\n",
       "          ...   \n",
       "95825    1999-10\n",
       "95826     2015-9\n",
       "95827     2004-8\n",
       "95828    2016-11\n",
       "95829    2000-11\n",
       "Name: date, Length: 95830, dtype: object"
      ]
     },
     "execution_count": 38,
     "metadata": {},
     "output_type": "execute_result"
    }
   ],
   "source": [
    "df['date'].str.lower()"
   ]
  },
  {
   "cell_type": "code",
   "execution_count": 39,
   "id": "2463b97e-df2e-4de7-85a9-3e6f849fe7ac",
   "metadata": {},
   "outputs": [
    {
     "data": {
      "text/plain": [
       "0        2013\n",
       "1        2018\n",
       "2        2019\n",
       "3        2019\n",
       "4        2002\n",
       "         ... \n",
       "95825    1999\n",
       "95826    2015\n",
       "95827    2004\n",
       "95828    2016\n",
       "95829    2000\n",
       "Name: date_dt, Length: 95830, dtype: int64"
      ]
     },
     "execution_count": 39,
     "metadata": {},
     "output_type": "execute_result"
    }
   ],
   "source": [
    "df['date_dt'].dt.year"
   ]
  },
  {
   "cell_type": "code",
   "execution_count": 46,
   "id": "838229ac-6283-45a2-af14-490c35a1bd8c",
   "metadata": {},
   "outputs": [
    {
     "data": {
      "text/plain": [
       "0        2013-03-01\n",
       "1        2018-02-01\n",
       "2        2019-12-01\n",
       "3        2019-02-01\n",
       "4        2002-03-01\n",
       "            ...    \n",
       "95825    1999-10-01\n",
       "95826    2015-09-01\n",
       "95827    2004-08-01\n",
       "95828    2016-11-01\n",
       "95829    2000-11-01\n",
       "Name: date_dt, Length: 95830, dtype: object"
      ]
     },
     "execution_count": 46,
     "metadata": {},
     "output_type": "execute_result"
    }
   ],
   "source": [
    "df['date_dt'].dt.strftime('%Y-01-%m')\n",
    "df['date_dt'].dt.strftime('%Y-%m-01')"
   ]
  },
  {
   "cell_type": "code",
   "execution_count": 57,
   "id": "a718ab83-6421-48c7-8a54-01765f8884d0",
   "metadata": {},
   "outputs": [],
   "source": [
    "df['date_dt_minus_7'] = df['date_dt'] + minus_7_days"
   ]
  },
  {
   "cell_type": "code",
   "execution_count": 64,
   "id": "3ba081e7-8346-480e-ba77-1d44cee33845",
   "metadata": {},
   "outputs": [
    {
     "data": {
      "text/plain": [
       "0        14\n",
       "1        14\n",
       "2        13\n",
       "3        14\n",
       "4        14\n",
       "         ..\n",
       "95825    13\n",
       "95826    13\n",
       "95827    13\n",
       "95828    13\n",
       "95829    13\n",
       "Length: 95830, dtype: int64"
      ]
     },
     "execution_count": 64,
     "metadata": {},
     "output_type": "execute_result"
    }
   ],
   "source": [
    "df['date_dt'].dt.year - df['date_dt_minus_7'].dt.year "
   ]
  },
  {
   "cell_type": "code",
   "execution_count": 59,
   "id": "3f834df9-a06b-4ce8-bfac-096dbda0ff13",
   "metadata": {},
   "outputs": [],
   "source": [
    "import numpy as np"
   ]
  },
  {
   "cell_type": "code",
   "execution_count": 61,
   "id": "4b37b207-630f-4c76-a895-f1411c7f8fd9",
   "metadata": {},
   "outputs": [
    {
     "data": {
      "text/plain": [
       "0       4900 days\n",
       "1       4900 days\n",
       "2       4900 days\n",
       "3       4900 days\n",
       "4       4900 days\n",
       "           ...   \n",
       "95825   4900 days\n",
       "95826   4900 days\n",
       "95827   4900 days\n",
       "95828   4900 days\n",
       "95829   4900 days\n",
       "Length: 95830, dtype: timedelta64[ns]"
      ]
     },
     "execution_count": 61,
     "metadata": {},
     "output_type": "execute_result"
    }
   ],
   "source": [
    "(df['date_dt'] - df['date_dt_minus_7'])"
   ]
  }
 ],
 "metadata": {
  "kernelspec": {
   "display_name": "coderslab_dtl",
   "language": "python",
   "name": "coderslab_dtl"
  },
  "language_info": {
   "codemirror_mode": {
    "name": "ipython",
    "version": 3
   },
   "file_extension": ".py",
   "mimetype": "text/x-python",
   "name": "python",
   "nbconvert_exporter": "python",
   "pygments_lexer": "ipython3",
   "version": "3.10.9"
  }
 },
 "nbformat": 4,
 "nbformat_minor": 5
}
