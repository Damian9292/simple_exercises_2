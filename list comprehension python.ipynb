{
 "cells": [
  {
   "cell_type": "code",
   "execution_count": null,
   "id": "9a5d8004",
   "metadata": {},
   "outputs": [],
   "source": [
    "# list comprehension python\n",
    "\n",
    "msc_2015 = []\n",
    "for x in range(1,13):\n",
    "    msc_2015.append(f\"2015-{x}\")\n",
    "msc_2015\n",
    "\n",
    "msc_2015 = [f\"2015-{x}\" for x in range(1,13)]\n",
    "msc_2015\n",
    "\n",
    "warunek_isin = df['date'].isin(msc_2015)"
   ]
  }
 ],
 "metadata": {
  "kernelspec": {
   "display_name": "Python 3 (ipykernel)",
   "language": "python",
   "name": "python3"
  },
  "language_info": {
   "codemirror_mode": {
    "name": "ipython",
    "version": 3
   },
   "file_extension": ".py",
   "mimetype": "text/x-python",
   "name": "python",
   "nbconvert_exporter": "python",
   "pygments_lexer": "ipython3",
   "version": "3.11.4"
  }
 },
 "nbformat": 4,
 "nbformat_minor": 5
}
