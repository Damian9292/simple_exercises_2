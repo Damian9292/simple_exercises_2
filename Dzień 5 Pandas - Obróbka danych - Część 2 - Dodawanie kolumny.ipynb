{
 "cells": [
  {
   "cell_type": "markdown",
   "id": "ready-craft",
   "metadata": {},
   "source": [
    "# Dodanie kolumny\n",
    "\n",
    "Kontynuując rozwiązanie poprzedniego zadania, stwórz nową kolumnę **product** używając **product_types** oraz **product_line**:\n",
    "\n",
    "1. sprawdź, czy kolumny **product_types** oraz **product_line** się uzupełniają (wartość pusta w jednej kolumnie pociąga za sobą niepustą wartość w drugiej),\n",
    "1. stwórz nową kolumnę **produkt**, używając wartości z kolumny **product_types** np. `df['product'] = df['product_types']`,\n",
    "1. znajdź niepuste wartości w kolumnie **product_line** i wpisz je do kolumny **product**,\n",
    "1. dowolnym sposobem sprawdź, czy wszystkie wartości w kolumnie **product** są nie puste,\n",
    "1. usuń duplikaty z tabeli,\n",
    "1. używając z metody `to_csv` zapisz dane (będziemy z nich korzystać w dalszej części kursu), ustaw separator=';' oraz `index=False`.<br>\n",
    "Plik zapisz jako `ceny_produktow_cleaned.csv`\n",
    "\n",
    "Metoda `read_csv` jest jedną z wielu, których można użyć, by zapisać `DataFrame` w formie pliku **csv**. W kontekście tego zadania interesują nas poniższe parametry:\n",
    "- `sep`-separator wierszy (domyślnie ','),\n",
    "- `index`-czy index (domyślnie numer wiersza) tabeli ma również zostać zapisany (domyślnie `True`).\n",
    "\n",
    "Przykład wywołania:\n",
    "```\n",
    "df.to_csv(\n",
    "    'filepath', # sciezka do pliku\n",
    "    sep=';', # ustawienie separatora\n",
    "    index=False\n",
    ")\n",
    "```"
   ]
  },
  {
   "cell_type": "code",
   "execution_count": 16,
   "id": "raised-writer",
   "metadata": {},
   "outputs": [
    {
     "data": {
      "text/html": [
       "<div>\n",
       "<style scoped>\n",
       "    .dataframe tbody tr th:only-of-type {\n",
       "        vertical-align: middle;\n",
       "    }\n",
       "\n",
       "    .dataframe tbody tr th {\n",
       "        vertical-align: top;\n",
       "    }\n",
       "\n",
       "    .dataframe thead th {\n",
       "        text-align: right;\n",
       "    }\n",
       "</style>\n",
       "<table border=\"1\" class=\"dataframe\">\n",
       "  <thead>\n",
       "    <tr style=\"text-align: right;\">\n",
       "      <th></th>\n",
       "      <th>province</th>\n",
       "      <th>product_types</th>\n",
       "      <th>currency</th>\n",
       "      <th>product_group_id</th>\n",
       "      <th>product_line</th>\n",
       "      <th>value</th>\n",
       "      <th>date</th>\n",
       "    </tr>\n",
       "  </thead>\n",
       "  <tbody>\n",
       "    <tr>\n",
       "      <th>0</th>\n",
       "      <td>PODKARPACKIE</td>\n",
       "      <td>NaN</td>\n",
       "      <td>zł</td>\n",
       "      <td>2</td>\n",
       "      <td>szynka wieprzowa gotowana - za 1kg</td>\n",
       "      <td>21.37</td>\n",
       "      <td>2013-3</td>\n",
       "    </tr>\n",
       "  </tbody>\n",
       "</table>\n",
       "</div>"
      ],
      "text/plain": [
       "       province product_types currency  product_group_id  \\\n",
       "0  PODKARPACKIE           NaN       zł                 2   \n",
       "\n",
       "                         product_line  value    date  \n",
       "0  szynka wieprzowa gotowana - za 1kg  21.37  2013-3  "
      ]
     },
     "execution_count": 16,
     "metadata": {},
     "output_type": "execute_result"
    }
   ],
   "source": [
    "import pandas as pd\n",
    "# p = \"../../01_Dane/ceny_produktow_renamed.csv\"\n",
    "p = './produkty_cleaned.csv'\n",
    "df = pd.read_csv(\n",
    "    p,\n",
    "    sep=';',\n",
    "    decimal='.'\n",
    ")\n",
    "df_clean = df.copy()\n",
    "df_clean.head(1)"
   ]
  },
  {
   "cell_type": "markdown",
   "id": "c27e1d65-3fa7-49f3-bd8e-49f7faed3e7d",
   "metadata": {},
   "source": [
    "#### 1 sprawdź, czy kolumny product_types oraz product_line się uzupełniają (wartość pusta w jednej kolumnie pociąga za sobą niepustą wartość w drugiej),"
   ]
  },
  {
   "cell_type": "code",
   "execution_count": 17,
   "id": "e80ad65a-5487-4641-872e-b6a82a0b28ab",
   "metadata": {},
   "outputs": [
    {
     "data": {
      "text/plain": [
       "True     93937\n",
       "False    16927\n",
       "Name: product_types, dtype: int64"
      ]
     },
     "execution_count": 17,
     "metadata": {},
     "output_type": "execute_result"
    }
   ],
   "source": [
    "df['product_types'].isna().value_counts()"
   ]
  },
  {
   "cell_type": "code",
   "execution_count": 18,
   "id": "fc23fb7f-3211-4724-ae76-7c93329afc64",
   "metadata": {},
   "outputs": [
    {
     "data": {
      "text/html": [
       "<div>\n",
       "<style scoped>\n",
       "    .dataframe tbody tr th:only-of-type {\n",
       "        vertical-align: middle;\n",
       "    }\n",
       "\n",
       "    .dataframe tbody tr th {\n",
       "        vertical-align: top;\n",
       "    }\n",
       "\n",
       "    .dataframe thead th {\n",
       "        text-align: right;\n",
       "    }\n",
       "</style>\n",
       "<table border=\"1\" class=\"dataframe\">\n",
       "  <thead>\n",
       "    <tr style=\"text-align: right;\">\n",
       "      <th></th>\n",
       "      <th>product_types</th>\n",
       "      <th>product_line</th>\n",
       "    </tr>\n",
       "  </thead>\n",
       "  <tbody>\n",
       "    <tr>\n",
       "      <th>84078</th>\n",
       "      <td>NaN</td>\n",
       "      <td>salceson Włoski - za 1kg</td>\n",
       "    </tr>\n",
       "    <tr>\n",
       "      <th>75116</th>\n",
       "      <td>NaN</td>\n",
       "      <td>kasza jęczmienna Mazurska - za 1kg</td>\n",
       "    </tr>\n",
       "    <tr>\n",
       "      <th>103927</th>\n",
       "      <td>NaN</td>\n",
       "      <td>kasza gryczana prażona cała - za 1kg</td>\n",
       "    </tr>\n",
       "  </tbody>\n",
       "</table>\n",
       "</div>"
      ],
      "text/plain": [
       "       product_types                          product_line\n",
       "84078            NaN              salceson Włoski - za 1kg\n",
       "75116            NaN    kasza jęczmienna Mazurska - za 1kg\n",
       "103927           NaN  kasza gryczana prażona cała - za 1kg"
      ]
     },
     "execution_count": 18,
     "metadata": {},
     "output_type": "execute_result"
    }
   ],
   "source": [
    "df_clean.loc[df['product_types'].isna(), ['product_types', 'product_line']].sample(3)"
   ]
  },
  {
   "cell_type": "code",
   "execution_count": 19,
   "id": "bfc08f02-342e-48ee-90a7-6a3f86d3c547",
   "metadata": {},
   "outputs": [
    {
     "data": {
      "text/plain": [
       "False    93937\n",
       "Name: product_line, dtype: int64"
      ]
     },
     "execution_count": 19,
     "metadata": {},
     "output_type": "execute_result"
    }
   ],
   "source": [
    "# wybieramy kolumne product_line tam gdzie product_types jest puste\n",
    "# sprawdzamy czy istnieja w tej (product_line) kolumnie puste wartosci\n",
    "# z pomoca funkcji isna()\n",
    "df_clean.loc[df['product_types'].isna(), 'product_line'].isna().value_counts()"
   ]
  },
  {
   "cell_type": "code",
   "execution_count": 20,
   "id": "1cac7820-2fa9-4017-a582-3e5019a6d0a9",
   "metadata": {},
   "outputs": [
    {
     "data": {
      "text/html": [
       "<div>\n",
       "<style scoped>\n",
       "    .dataframe tbody tr th:only-of-type {\n",
       "        vertical-align: middle;\n",
       "    }\n",
       "\n",
       "    .dataframe tbody tr th {\n",
       "        vertical-align: top;\n",
       "    }\n",
       "\n",
       "    .dataframe thead th {\n",
       "        text-align: right;\n",
       "    }\n",
       "</style>\n",
       "<table border=\"1\" class=\"dataframe\">\n",
       "  <thead>\n",
       "    <tr style=\"text-align: right;\">\n",
       "      <th></th>\n",
       "      <th>product_types</th>\n",
       "      <th>product_line</th>\n",
       "    </tr>\n",
       "  </thead>\n",
       "  <tbody>\n",
       "    <tr>\n",
       "      <th>110517</th>\n",
       "      <td>cukier biały z buraków cukrowych, workowany - ...</td>\n",
       "      <td>NaN</td>\n",
       "    </tr>\n",
       "    <tr>\n",
       "      <th>38670</th>\n",
       "      <td>mieszanka mrożona marchew i groszek - za 1kg</td>\n",
       "      <td>NaN</td>\n",
       "    </tr>\n",
       "    <tr>\n",
       "      <th>96589</th>\n",
       "      <td>sok jabłkowy, w opakowaniu kartonowym - za 1l</td>\n",
       "      <td>NaN</td>\n",
       "    </tr>\n",
       "  </tbody>\n",
       "</table>\n",
       "</div>"
      ],
      "text/plain": [
       "                                            product_types product_line\n",
       "110517  cukier biały z buraków cukrowych, workowany - ...          NaN\n",
       "38670        mieszanka mrożona marchew i groszek - za 1kg          NaN\n",
       "96589       sok jabłkowy, w opakowaniu kartonowym - za 1l          NaN"
      ]
     },
     "execution_count": 20,
     "metadata": {},
     "output_type": "execute_result"
    }
   ],
   "source": [
    "df_clean.loc[df['product_line'].isna(), ['product_types', 'product_line']].sample(3)"
   ]
  },
  {
   "cell_type": "code",
   "execution_count": 21,
   "id": "5eee55a2-2656-4258-a4d0-aac14fd16044",
   "metadata": {},
   "outputs": [
    {
     "data": {
      "text/plain": [
       "False    16927\n",
       "Name: product_types, dtype: int64"
      ]
     },
     "execution_count": 21,
     "metadata": {},
     "output_type": "execute_result"
    }
   ],
   "source": [
    "df_clean.loc[df['product_line'].isna(), 'product_types'].isna().value_counts()"
   ]
  },
  {
   "cell_type": "markdown",
   "id": "c26dcf34-56f3-43b1-9d41-9c969a4e380b",
   "metadata": {},
   "source": [
    "#### 2 stwórz nową kolumnę produkt, używając wartości z kolumny product_types np. df['product'] = df['product_types'],"
   ]
  },
  {
   "cell_type": "code",
   "execution_count": 22,
   "id": "da3f4d8f-be8f-42b5-ad87-21ddbb8d8db6",
   "metadata": {},
   "outputs": [],
   "source": [
    "df_clean['product'] = df_clean['product_types']"
   ]
  },
  {
   "cell_type": "markdown",
   "id": "5e045ad4-af54-40ff-9dfc-45dfb54e759d",
   "metadata": {},
   "source": [
    "#### 3 znajdź niepuste wartości w kolumnie product_line i wpisz je do kolumny product,"
   ]
  },
  {
   "cell_type": "code",
   "execution_count": 23,
   "id": "1358f3c7-01b8-4463-97a6-19332b3b8d5d",
   "metadata": {},
   "outputs": [],
   "source": [
    "# to jest to samo co odkomentowany kod, pandas jest sprytny\n",
    "# df_clean.loc[df_clean['product_line'].notna(), 'product'] = df_clean.loc[df_clean['product_line'].notna(), 'product_line']\n",
    "df_clean.loc[df_clean['product_line'].notna(), 'product'] = df_clean['product_line']\n"
   ]
  },
  {
   "cell_type": "markdown",
   "id": "e121db9d-1f73-4a75-99f5-8e6f2ad14df5",
   "metadata": {},
   "source": [
    "#### 4 dowolnym sposobem sprawdź, czy wszystkie wartości w kolumnie product są nie puste,\n",
    "usuń duplikaty z tabeli,"
   ]
  },
  {
   "cell_type": "code",
   "execution_count": 24,
   "id": "82d743a3-d952-4d8e-973c-9b66382a97c0",
   "metadata": {},
   "outputs": [
    {
     "data": {
      "text/plain": [
       "False    110864\n",
       "Name: product, dtype: int64"
      ]
     },
     "execution_count": 24,
     "metadata": {},
     "output_type": "execute_result"
    }
   ],
   "source": [
    "df_clean['product'].isna().value_counts()"
   ]
  },
  {
   "cell_type": "markdown",
   "id": "e4268271-edc6-48b6-b57d-3971b3f446d9",
   "metadata": {},
   "source": [
    "#### 5 usuń duplikaty z tabeli,"
   ]
  },
  {
   "cell_type": "code",
   "execution_count": 25,
   "id": "47fb1903-62ce-45ca-a56c-acb88b0b67ae",
   "metadata": {},
   "outputs": [],
   "source": [
    "# df_clean.drop_duplicates(inplace=True)\n",
    "df_clean = df_clean.drop_duplicates()"
   ]
  },
  {
   "cell_type": "markdown",
   "id": "c2164257-4c6c-4043-b4d5-427c148f7836",
   "metadata": {},
   "source": [
    "#### 6 używając z metody to_csv zapisz dane (będziemy z nich korzystać w dalszej części kursu), ustaw separator=';' oraz index=False.\n",
    "Plik zapisz jako ceny_produktow_cleaned.csv"
   ]
  },
  {
   "cell_type": "code",
   "execution_count": 27,
   "id": "1e60be1c-21b2-4843-848e-8a304e4bdeb4",
   "metadata": {
    "scrolled": false
   },
   "outputs": [],
   "source": [
    "\n",
    "df_clean.to_csv('ceny_produktow_cleaned.csv', sep=';', decimal='.', encoding='utf-8', index=False)"
   ]
  },
  {
   "cell_type": "code",
   "execution_count": 28,
   "id": "8245830d-0272-4756-bf0a-3f74f4c76cc5",
   "metadata": {},
   "outputs": [
    {
     "data": {
      "text/html": [
       "<div>\n",
       "<style scoped>\n",
       "    .dataframe tbody tr th:only-of-type {\n",
       "        vertical-align: middle;\n",
       "    }\n",
       "\n",
       "    .dataframe tbody tr th {\n",
       "        vertical-align: top;\n",
       "    }\n",
       "\n",
       "    .dataframe thead th {\n",
       "        text-align: right;\n",
       "    }\n",
       "</style>\n",
       "<table border=\"1\" class=\"dataframe\">\n",
       "  <thead>\n",
       "    <tr style=\"text-align: right;\">\n",
       "      <th></th>\n",
       "      <th>province</th>\n",
       "      <th>product_types</th>\n",
       "      <th>currency</th>\n",
       "      <th>product_group_id</th>\n",
       "      <th>product_line</th>\n",
       "      <th>value</th>\n",
       "      <th>date</th>\n",
       "      <th>product</th>\n",
       "    </tr>\n",
       "  </thead>\n",
       "  <tbody>\n",
       "    <tr>\n",
       "      <th>0</th>\n",
       "      <td>PODKARPACKIE</td>\n",
       "      <td>NaN</td>\n",
       "      <td>zł</td>\n",
       "      <td>2</td>\n",
       "      <td>szynka wieprzowa gotowana - za 1kg</td>\n",
       "      <td>21.37</td>\n",
       "      <td>2013-3</td>\n",
       "      <td>szynka wieprzowa gotowana - za 1kg</td>\n",
       "    </tr>\n",
       "    <tr>\n",
       "      <th>1</th>\n",
       "      <td>ŁÓDZKIE</td>\n",
       "      <td>NaN</td>\n",
       "      <td>zł</td>\n",
       "      <td>4</td>\n",
       "      <td>chleb - za 1kg</td>\n",
       "      <td>NaN</td>\n",
       "      <td>2018-2</td>\n",
       "      <td>chleb - za 1kg</td>\n",
       "    </tr>\n",
       "    <tr>\n",
       "      <th>2</th>\n",
       "      <td>KUJAWSKO-POMORSKIE</td>\n",
       "      <td>NaN</td>\n",
       "      <td>zł</td>\n",
       "      <td>2</td>\n",
       "      <td>kiszka kaszana jęczmienna - za 1kg</td>\n",
       "      <td>3.55</td>\n",
       "      <td>2019-12</td>\n",
       "      <td>kiszka kaszana jęczmienna - za 1kg</td>\n",
       "    </tr>\n",
       "    <tr>\n",
       "      <th>3</th>\n",
       "      <td>DOLNOŚLĄSKIE</td>\n",
       "      <td>NaN</td>\n",
       "      <td>zł</td>\n",
       "      <td>2</td>\n",
       "      <td>kurczęta patroszone - za 1kg</td>\n",
       "      <td>6.14</td>\n",
       "      <td>2019-2</td>\n",
       "      <td>kurczęta patroszone - za 1kg</td>\n",
       "    </tr>\n",
       "    <tr>\n",
       "      <th>4</th>\n",
       "      <td>WARMIŃSKO-MAZURSKIE</td>\n",
       "      <td>NaN</td>\n",
       "      <td>zł</td>\n",
       "      <td>2</td>\n",
       "      <td>salceson Włoski - za 1kg</td>\n",
       "      <td>5.63</td>\n",
       "      <td>2002-3</td>\n",
       "      <td>salceson Włoski - za 1kg</td>\n",
       "    </tr>\n",
       "    <tr>\n",
       "      <th>5</th>\n",
       "      <td>ŚWIĘTOKRZYSKIE</td>\n",
       "      <td>ogórki konserwowe całe 0,9l - za 1szt.</td>\n",
       "      <td>zł</td>\n",
       "      <td>1</td>\n",
       "      <td>NaN</td>\n",
       "      <td>0.28</td>\n",
       "      <td>2010-4</td>\n",
       "      <td>ogórki konserwowe całe 0,9l - za 1szt.</td>\n",
       "    </tr>\n",
       "    <tr>\n",
       "      <th>6</th>\n",
       "      <td>POLSKA</td>\n",
       "      <td>NaN</td>\n",
       "      <td>zł</td>\n",
       "      <td>2</td>\n",
       "      <td>baleron gotowany - za 1kg</td>\n",
       "      <td>19.62</td>\n",
       "      <td>2017-3</td>\n",
       "      <td>baleron gotowany - za 1kg</td>\n",
       "    </tr>\n",
       "    <tr>\n",
       "      <th>7</th>\n",
       "      <td>KUJAWSKO-POMORSKIE</td>\n",
       "      <td>NaN</td>\n",
       "      <td>zł</td>\n",
       "      <td>2</td>\n",
       "      <td>mięso  wieprzowe z kością (schab środkowy) - z...</td>\n",
       "      <td>11.19</td>\n",
       "      <td>1999-4</td>\n",
       "      <td>mięso  wieprzowe z kością (schab środkowy) - z...</td>\n",
       "    </tr>\n",
       "    <tr>\n",
       "      <th>8</th>\n",
       "      <td>PODLASKIE</td>\n",
       "      <td>NaN</td>\n",
       "      <td>zł</td>\n",
       "      <td>4</td>\n",
       "      <td>chleb mieszany zwykły (pszenno-żytni) - za 1kg</td>\n",
       "      <td>3.86</td>\n",
       "      <td>2017-7</td>\n",
       "      <td>chleb mieszany zwykły (pszenno-żytni) - za 1kg</td>\n",
       "    </tr>\n",
       "    <tr>\n",
       "      <th>9</th>\n",
       "      <td>WARMIŃSKO-MAZURSKIE</td>\n",
       "      <td>NaN</td>\n",
       "      <td>zł</td>\n",
       "      <td>4</td>\n",
       "      <td>mąka pszenna Poznańska, workowana - za 1kg</td>\n",
       "      <td>0.95</td>\n",
       "      <td>2009-5</td>\n",
       "      <td>mąka pszenna Poznańska, workowana - za 1kg</td>\n",
       "    </tr>\n",
       "  </tbody>\n",
       "</table>\n",
       "</div>"
      ],
      "text/plain": [
       "              province                           product_types currency  \\\n",
       "0         PODKARPACKIE                                     NaN       zł   \n",
       "1              ŁÓDZKIE                                     NaN       zł   \n",
       "2   KUJAWSKO-POMORSKIE                                     NaN       zł   \n",
       "3         DOLNOŚLĄSKIE                                     NaN       zł   \n",
       "4  WARMIŃSKO-MAZURSKIE                                     NaN       zł   \n",
       "5       ŚWIĘTOKRZYSKIE  ogórki konserwowe całe 0,9l - za 1szt.       zł   \n",
       "6               POLSKA                                     NaN       zł   \n",
       "7   KUJAWSKO-POMORSKIE                                     NaN       zł   \n",
       "8            PODLASKIE                                     NaN       zł   \n",
       "9  WARMIŃSKO-MAZURSKIE                                     NaN       zł   \n",
       "\n",
       "   product_group_id                                       product_line  value  \\\n",
       "0                 2                 szynka wieprzowa gotowana - za 1kg  21.37   \n",
       "1                 4                                     chleb - za 1kg    NaN   \n",
       "2                 2                 kiszka kaszana jęczmienna - za 1kg   3.55   \n",
       "3                 2                       kurczęta patroszone - za 1kg   6.14   \n",
       "4                 2                           salceson Włoski - za 1kg   5.63   \n",
       "5                 1                                                NaN   0.28   \n",
       "6                 2                          baleron gotowany - za 1kg  19.62   \n",
       "7                 2  mięso  wieprzowe z kością (schab środkowy) - z...  11.19   \n",
       "8                 4     chleb mieszany zwykły (pszenno-żytni) - za 1kg   3.86   \n",
       "9                 4         mąka pszenna Poznańska, workowana - za 1kg   0.95   \n",
       "\n",
       "      date                                            product  \n",
       "0   2013-3                 szynka wieprzowa gotowana - za 1kg  \n",
       "1   2018-2                                     chleb - za 1kg  \n",
       "2  2019-12                 kiszka kaszana jęczmienna - za 1kg  \n",
       "3   2019-2                       kurczęta patroszone - za 1kg  \n",
       "4   2002-3                           salceson Włoski - za 1kg  \n",
       "5   2010-4             ogórki konserwowe całe 0,9l - za 1szt.  \n",
       "6   2017-3                          baleron gotowany - za 1kg  \n",
       "7   1999-4  mięso  wieprzowe z kością (schab środkowy) - z...  \n",
       "8   2017-7     chleb mieszany zwykły (pszenno-żytni) - za 1kg  \n",
       "9   2009-5         mąka pszenna Poznańska, workowana - za 1kg  "
      ]
     },
     "execution_count": 28,
     "metadata": {},
     "output_type": "execute_result"
    }
   ],
   "source": [
    "df_clean.head(10)"
   ]
  },
  {
   "cell_type": "code",
   "execution_count": null,
   "id": "508c939f-90b0-4c65-9b14-69771244e398",
   "metadata": {},
   "outputs": [],
   "source": []
  }
 ],
 "metadata": {
  "kernelspec": {
   "display_name": "Python 3 (ipykernel)",
   "language": "python",
   "name": "python3"
  },
  "language_info": {
   "codemirror_mode": {
    "name": "ipython",
    "version": 3
   },
   "file_extension": ".py",
   "mimetype": "text/x-python",
   "name": "python",
   "nbconvert_exporter": "python",
   "pygments_lexer": "ipython3",
   "version": "3.11.4"
  }
 },
 "nbformat": 4,
 "nbformat_minor": 5
}
